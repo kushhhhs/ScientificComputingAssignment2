{
 "cells": [
  {
   "cell_type": "markdown",
   "metadata": {},
   "source": [
    "# Gray-Scott reaction-diffusion model"
   ]
  },
  {
   "cell_type": "markdown",
   "metadata": {},
   "source": [
    "This notebook will run the Gray-Scott Reaction-Diffusion model to answer questions posed in the assignment and showcase model usage."
   ]
  },
  {
   "cell_type": "markdown",
   "metadata": {},
   "source": [
    "### 1. Imports\n",
    "\n",
    "To run the code we import the neccesary class and functions"
   ]
  },
  {
   "cell_type": "code",
   "execution_count": 15,
   "metadata": {},
   "outputs": [],
   "source": [
    "from gs_class import GrayScott\n",
    "from gs_visual import create_animation, plot_field_UV, plot_field"
   ]
  },
  {
   "cell_type": "markdown",
   "metadata": {},
   "source": [
    "### 2 Class Structure (explanation)\n",
    "The Class imidiately initializes a Gray-Scott reaction diffusion grid for U and V with initial conditions as described below. The class implements Neumann Boundary conditions. Below are the initial conditions as described in the assignment:"
   ]
  },
  {
   "cell_type": "code",
   "execution_count": 16,
   "metadata": {},
   "outputs": [],
   "source": [
    "n: int = 100,\n",
    "center: int = 6,\n",
    "i_value_U: float = 0.5,\n",
    "i_value_V: float = 0.25,\n",
    "dx: float = 1.0,\n",
    "dt: float = 1.0,\n",
    "dU: float = 0.16,\n",
    "dV: float = 0.08,\n",
    "feed: float = 0.035,\n",
    "kill: float = 0.06, \n",
    "noise: float = 0.0"
   ]
  },
  {
   "cell_type": "markdown",
   "metadata": {},
   "source": [
    "To create a class simply do the following:"
   ]
  },
  {
   "cell_type": "code",
   "execution_count": 17,
   "metadata": {},
   "outputs": [],
   "source": [
    "# With initial conditions as described above\n",
    "gray_scott = GrayScott()\n",
    "\n",
    "# With some different initial conditions \n",
    "# These are not recommended for further usage\n",
    "n = 5\n",
    "center = 1\n",
    "i_value_U = 0.6\n",
    "i_value_V = 0.35\n",
    "\n",
    "gray_scott2 = GrayScott(n, center, i_value_U, i_value_V)"
   ]
  },
  {
   "cell_type": "markdown",
   "metadata": {},
   "source": [
    "The classes hold the grids for U and V as self.U and self.V as np.array."
   ]
  },
  {
   "cell_type": "code",
   "execution_count": 18,
   "metadata": {},
   "outputs": [
    {
     "name": "stdout",
     "output_type": "stream",
     "text": [
      "[[0.6 0.6 0.6 0.6 0.6 0.6 0.6]\n",
      " [0.6 0.6 0.6 0.6 0.6 0.6 0.6]\n",
      " [0.6 0.6 0.6 0.6 0.6 0.6 0.6]\n",
      " [0.6 0.6 0.6 0.6 0.6 0.6 0.6]\n",
      " [0.6 0.6 0.6 0.6 0.6 0.6 0.6]\n",
      " [0.6 0.6 0.6 0.6 0.6 0.6 0.6]\n",
      " [0.6 0.6 0.6 0.6 0.6 0.6 0.6]]\n",
      "[[0.   0.   0.   0.   0.   0.   0.  ]\n",
      " [0.   0.   0.   0.   0.   0.   0.  ]\n",
      " [0.   0.   0.   0.   0.   0.   0.  ]\n",
      " [0.   0.   0.   0.35 0.   0.   0.  ]\n",
      " [0.   0.   0.   0.   0.   0.   0.  ]\n",
      " [0.   0.   0.   0.   0.   0.   0.  ]\n",
      " [0.   0.   0.   0.   0.   0.   0.  ]]\n"
     ]
    }
   ],
   "source": [
    "print(gray_scott2.U)\n",
    "print(gray_scott2.V)"
   ]
  },
  {
   "cell_type": "markdown",
   "metadata": {},
   "source": [
    "The Class can be updated simply by calling on the update function. Which will automatically store the new grids for U and V in seld.U and self.V respecitively."
   ]
  },
  {
   "cell_type": "code",
   "execution_count": 19,
   "metadata": {},
   "outputs": [],
   "source": [
    "gray_scott.update()"
   ]
  },
  {
   "cell_type": "markdown",
   "metadata": {},
   "source": [
    "### 3. Visualisation\n",
    "The Gray Scott model can be visualised by plots of the field at a given iteration or an animation."
   ]
  }
 ],
 "metadata": {
  "kernelspec": {
   "display_name": "base",
   "language": "python",
   "name": "python3"
  },
  "language_info": {
   "codemirror_mode": {
    "name": "ipython",
    "version": 3
   },
   "file_extension": ".py",
   "mimetype": "text/x-python",
   "name": "python",
   "nbconvert_exporter": "python",
   "pygments_lexer": "ipython3",
   "version": "3.12.4"
  }
 },
 "nbformat": 4,
 "nbformat_minor": 2
}
