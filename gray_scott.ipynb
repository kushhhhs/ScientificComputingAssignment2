{
 "cells": [
  {
   "cell_type": "markdown",
   "metadata": {},
   "source": [
    "# Gray-Scott Reaction-Diffusion Model"
   ]
  },
  {
   "cell_type": "markdown",
   "metadata": {},
   "source": [
    "This notebook will run the Gray-Scott Reaction-Diffusion model to answer questions posed in the assignment and showcase model usage."
   ]
  },
  {
   "cell_type": "markdown",
   "metadata": {},
   "source": [
    "### 1. Imports\n",
    "\n",
    "To run the code we import the neccesary class and functions"
   ]
  },
  {
   "cell_type": "code",
   "execution_count": null,
   "metadata": {},
   "outputs": [],
   "source": [
    "from src.gs_class import GrayScott\n",
    "from src.gs_visual import create_animation, plot_field_UV, plot_field, plot_field_compare\n",
    "\n",
    "from IPython.display import HTML, display\n",
    "\n",
    "import matplotlib.animation as animation\n",
    "import matplotlib.pyplot as plt\n",
    "import numpy as np"
   ]
  },
  {
   "cell_type": "markdown",
   "metadata": {},
   "source": [
    "### 2 Class Structure (explanation)\n",
    "The Class imidiately initializes a Gray-Scott reaction diffusion grid for U and V with initial conditions as described below. The class implements Neumann Boundary conditions. Below are the initial conditions as described in the assignment:"
   ]
  },
  {
   "cell_type": "code",
   "execution_count": null,
   "metadata": {},
   "outputs": [],
   "source": [
    "n: int = 100,\n",
    "center: int = 6,\n",
    "i_value_U: float = 0.5,\n",
    "i_value_V: float = 0.25,\n",
    "dx: float = 1.0,\n",
    "dt: float = 1.0,\n",
    "dU: float = 0.16,\n",
    "dV: float = 0.08,\n",
    "feed: float = 0.035,\n",
    "kill: float = 0.06, \n",
    "noise: float = 0.0"
   ]
  },
  {
   "cell_type": "markdown",
   "metadata": {},
   "source": [
    "To create a class simply do the following:"
   ]
  },
  {
   "cell_type": "code",
   "execution_count": null,
   "metadata": {},
   "outputs": [],
   "source": [
    "# With initial conditions as described above\n",
    "gray_scott = GrayScott()\n",
    "\n",
    "# With some different initial conditions \n",
    "# These are not recommended for further usage\n",
    "n = 5\n",
    "center = 1\n",
    "i_value_U = 0.6\n",
    "i_value_V = 0.35\n",
    "\n",
    "gray_scott2 = GrayScott(n, center, i_value_U, i_value_V)"
   ]
  },
  {
   "cell_type": "markdown",
   "metadata": {},
   "source": [
    "The classes hold the grids for U and V as self.U and self.V as np.array."
   ]
  },
  {
   "cell_type": "code",
   "execution_count": null,
   "metadata": {},
   "outputs": [],
   "source": [
    "print(gray_scott2.U)\n",
    "print(gray_scott2.V)"
   ]
  },
  {
   "cell_type": "markdown",
   "metadata": {},
   "source": [
    "The Class can be updated simply by calling on the update function. Which will automatically store the new grids for U and V in seld.U and self.V respecitively."
   ]
  },
  {
   "cell_type": "code",
   "execution_count": null,
   "metadata": {},
   "outputs": [],
   "source": [
    "gray_scott.update()"
   ]
  },
  {
   "cell_type": "markdown",
   "metadata": {},
   "source": [
    "### 3. Visualisation\n",
    "The Gray Scott model can be visualised by plots of the field at a given iteration or an animation."
   ]
  },
  {
   "cell_type": "markdown",
   "metadata": {},
   "source": [
    "#### 3.1 Heatmaps for U and V (no noise)"
   ]
  },
  {
   "cell_type": "markdown",
   "metadata": {},
   "source": [
    "First we plot field heatmaps for 'U' and 'V' seperately at a given iteration (time).\n",
    "\n",
    "Then we will plot the fields at a given iteration (time), this will give both plots with a heatmap that is generated for the min and max of both U and V fields to accurately compare them.\n",
    "\n",
    "Iterations are set at 10000 for all, but can be adjusted by passing the parameter."
   ]
  },
  {
   "cell_type": "code",
   "execution_count": null,
   "metadata": {},
   "outputs": [],
   "source": [
    "# Create a heatmap for the U field\n",
    "gs_U_field = GrayScott()\n",
    "fig = plot_field(gs_U_field, field='U')\n",
    "plt.savefig('results/gs_field_U.png', dpi=300)"
   ]
  },
  {
   "cell_type": "code",
   "execution_count": null,
   "metadata": {},
   "outputs": [],
   "source": [
    "# Create a heatmap for the V field\n",
    "gs_V_field = GrayScott()\n",
    "fig = plot_field(gs_V_field, field='V')\n",
    "plt.savefig('results/gs_field_V.png', dpi=300)"
   ]
  },
  {
   "cell_type": "code",
   "execution_count": null,
   "metadata": {},
   "outputs": [],
   "source": [
    "# Compare fields of U and V\n",
    "gray_scott_UV = GrayScott()\n",
    "fig = plot_field_UV(gray_scott_UV)\n",
    "plt.savefig('results/gs_fields_UV.png', dpi=300)"
   ]
  },
  {
   "cell_type": "markdown",
   "metadata": {},
   "source": [
    "#### 3.2 Animation of field of U (no noise)"
   ]
  },
  {
   "cell_type": "markdown",
   "metadata": {},
   "source": [
    "Lastly, we will create a Gray Scott class object, with the standard initial parameters (without noise) and then pass it to the animation function. To view the animation go to results/gray_scott_animation.png.\n",
    "\n",
    "NOTE: this may take several minutes, lower 'frames' for decreased render time\n"
   ]
  },
  {
   "cell_type": "code",
   "execution_count": null,
   "metadata": {},
   "outputs": [],
   "source": [
    "gs = GrayScott()\n",
    "ani = create_animation(gs, frames=400, updates_per_frame=100)\n",
    "ani.save('results/gs_U_no_noise.gif', writer='pillow')\n",
    "\n",
    "# Display animation as HTML5 video\n",
    "display(HTML(ani.to_jshtml(fps=30, default_mode='loop')))\n"
   ]
  },
  {
   "cell_type": "markdown",
   "metadata": {},
   "source": [
    "#### 3.3 Field of U and V (with noise)"
   ]
  },
  {
   "cell_type": "markdown",
   "metadata": {},
   "source": [
    "We now plot the fields for U and V with noise, note how the pattern may not be symmetric."
   ]
  },
  {
   "cell_type": "code",
   "execution_count": null,
   "metadata": {},
   "outputs": [],
   "source": [
    "gray_scott_UV_noise = GrayScott(noise=0.001)\n",
    "fig = plot_field_UV(gray_scott_UV_noise)\n",
    "plt.savefig('results/gs_field_UV_noise.png', dpi=300)"
   ]
  },
  {
   "cell_type": "markdown",
   "metadata": {},
   "source": [
    "#### 3.4 Animation of field of U (with noise)"
   ]
  },
  {
   "cell_type": "markdown",
   "metadata": {},
   "source": [
    "Note that if the seed is disabled, the noise, due to its stochasticity, may result in an monotone field."
   ]
  },
  {
   "cell_type": "code",
   "execution_count": null,
   "metadata": {},
   "outputs": [],
   "source": [
    "# Uncomment seed to generate animation with noise\n",
    "np.random.seed(42)\n",
    "\n",
    "# Create an animation from a GrayScott class\n",
    "gs_noise = GrayScott(noise=0.01)\n",
    "ani = create_animation(gs_noise, frames=200, updates_per_frame=30)\n",
    "ani.save('results/gs_field_U_noise.gif', writer='pillow')\n",
    "\n",
    "# Display animation as HTML5 video\n",
    "display(HTML(ani.to_jshtml(fps=20, default_mode='loop')))\n"
   ]
  },
  {
   "cell_type": "markdown",
   "metadata": {},
   "source": [
    "### 4. Different initial parameters"
   ]
  },
  {
   "cell_type": "markdown",
   "metadata": {},
   "source": [
    "We can pass different initial values to the Gray Scott class to view the effects of changing these parameters on the formation of patterns, especially the Feed and Kill rate have significant effects on emerging patterns. We may also see that some emerging patterns are time-dependent while others are not."
   ]
  },
  {
   "cell_type": "markdown",
   "metadata": {},
   "source": [
    "Below is a list of initial parameter settings that would render the specified type of pattern. Due to file sizes, we will not render all of them as animation automatically. To view them as animation, adjust the code below and simply copy-paste the parameters within the GrayScott class object.\n",
    "\n",
    "1. rings\n",
    "    - n=200, feed=0.042, kill=0.059\n",
    "2. mitosis (cell divison) \n",
    "    - spots:              n=200, feed=0.02, kill=0.057\n",
    "    - stripes from spots: n=200, feed=0.03, kill=0.057\n",
    "3. Stripes and spots\n",
    "    - n=200, feed=0.033, kill=0.06, noise=0.001\n",
    "4. negative spots\n",
    "    - n=200, feed=0.036, kill=0.057\n",
    "5. large spirals (Belousov-Zhabotinsky reaction  in petri)\n",
    "    - Needs larger center and noise\n",
    "    - n=200, center=12, feed=0.011, kill=0.041, noise=0.01\n",
    "6. Waves\n",
    "    - n=200, feed=0.018, kill=0.050, noise=0.001\n",
    "7. Wave-like signals with flashes (best with noise)\n",
    "    - n=200, feed=0.014, kill=0.039, noise=0.001\n",
    "8. Maze-like pattern\n",
    "    - n=200, feed=0.03, kill=0.057, noise=0.001\n"
   ]
  },
  {
   "cell_type": "code",
   "execution_count": null,
   "metadata": {},
   "outputs": [],
   "source": [
    "np.random.seed(42)\n",
    "gs = GrayScott(n=200, center=12, feed=0.011, kill=0.041, noise=0.01)\n",
    "ani = create_animation(gs, frames=150, updates_per_frame=50)\n",
    "# ani.save('results/gs_U_no_noise.gif', writer='pillow')\n",
    "\n",
    "# Display animation as HTML5 video\n",
    "display(HTML(ani.to_jshtml(fps=20, default_mode='loop')))"
   ]
  },
  {
   "cell_type": "code",
   "execution_count": null,
   "metadata": {},
   "outputs": [],
   "source": [
    "np.random.seed(42)\n",
    "gs1 = GrayScott(n=200, feed=0.042, kill=0.059)  # Rings\n",
    "gs2 = GrayScott(n=200, feed=0.02, kill=0.057)   # Mitosis\n",
    "gs3 = GrayScott(n=200, feed=0.036, kill=0.057)  # Negative spots\n",
    "gs4 = GrayScott(n=200, center=12, feed=0.011, kill=0.041, noise=0.01) #Petri dish-like patterns\n",
    "\n",
    "plot_field_compare(gs1, gs2, gs3, gs4, iterations=5000)"
   ]
  },
  {
   "cell_type": "code",
   "execution_count": null,
   "metadata": {},
   "outputs": [],
   "source": []
  }
 ],
 "metadata": {
  "kernelspec": {
   "display_name": "base",
   "language": "python",
   "name": "python3"
  },
  "language_info": {
   "codemirror_mode": {
    "name": "ipython",
    "version": 3
   },
   "file_extension": ".py",
   "mimetype": "text/x-python",
   "name": "python",
   "nbconvert_exporter": "python",
   "pygments_lexer": "ipython3",
   "version": "3.12.4"
  }
 },
 "nbformat": 4,
 "nbformat_minor": 2
}
