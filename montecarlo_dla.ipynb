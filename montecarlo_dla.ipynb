{
 "cells": [
  {
   "cell_type": "markdown",
   "metadata": {},
   "source": [
    "# Monte Carlo Simulation of DLA\n",
    "\n",
    "This notebook implements the use of random walkers to simulate DLA using the Monte Carlo method. This answers questions 2.2B and 2.2C posed in the assignment."
   ]
  },
  {
   "cell_type": "markdown",
   "metadata": {},
   "source": [
    "### 1. Imports\n",
    "\n",
    "We import the class objects and python libraries."
   ]
  },
  {
   "cell_type": "code",
   "execution_count": 2,
   "metadata": {},
   "outputs": [],
   "source": [
    "from grid import Grid\n",
    "from random_walker import Walker\n",
    "\n",
    "import matplotlib.pyplot as plt"
   ]
  },
  {
   "cell_type": "markdown",
   "metadata": {},
   "source": [
    "### 2. Class Structure\n",
    "\n",
    "Grid: Contains information about the grid and the DLA cluster as a whole.\n",
    "- grid_size: The domain size\n",
    "- sticking_probability: The probability that a particle sticks to the cluster when it is adjacent to it. To answer the question posed in 2.2B, the sticking proability should always be set to 1.\n",
    "- size_cluster: The size at which random walkers should stop being released onto the grid.\n",
    "\n",
    "...\n",
    "\n",
    "Walker: A single random walking particle."
   ]
  },
  {
   "cell_type": "code",
   "execution_count": 3,
   "metadata": {},
   "outputs": [],
   "source": [
    "grid_size: int = 100\n",
    "sticking_probability: float = 1\n",
    "size_cluster: int = 100"
   ]
  },
  {
   "cell_type": "markdown",
   "metadata": {},
   "source": [
    "To create a Grid class-object, run the following:"
   ]
  },
  {
   "cell_type": "code",
   "execution_count": null,
   "metadata": {},
   "outputs": [],
   "source": [
    "grid = Grid(grid_size, sticking_probability, size_cluster)"
   ]
  },
  {
   "cell_type": "markdown",
   "metadata": {},
   "source": [
    "The cluster object can be created upto its desired size using:"
   ]
  },
  {
   "cell_type": "code",
   "execution_count": null,
   "metadata": {},
   "outputs": [],
   "source": [
    "grid.create_cluster()\n"
   ]
  },
  {
   "cell_type": "markdown",
   "metadata": {},
   "source": [
    "It can be plotted by running:"
   ]
  },
  {
   "cell_type": "code",
   "execution_count": null,
   "metadata": {},
   "outputs": [],
   "source": [
    "grid.visualise()"
   ]
  },
  {
   "cell_type": "markdown",
   "metadata": {},
   "source": [
    "### 3. Sticking Probability Experiment\n",
    "\n",
    "To experiment the effect of the sticking probability on the shape of the cluster, these last three cells are repeated for different values."
   ]
  },
  {
   "cell_type": "code",
   "execution_count": null,
   "metadata": {},
   "outputs": [],
   "source": [
    "sticking_probabilities = [1, 0.9, 0.8, 0.7, 0.6]\n",
    "size_cluster = 100\n",
    "\n",
    "for sticking_probability in sticking_probabilities:\n",
    "    grid = Grid(grid_size, sticking_probability, size_cluster)\n",
    "    grid.create_cluster()\n",
    "    grid.visualise()"
   ]
  }
 ],
 "metadata": {
  "kernelspec": {
   "display_name": "Python 3",
   "language": "python",
   "name": "python3"
  },
  "language_info": {
   "codemirror_mode": {
    "name": "ipython",
    "version": 3
   },
   "file_extension": ".py",
   "mimetype": "text/x-python",
   "name": "python",
   "nbconvert_exporter": "python",
   "pygments_lexer": "ipython3",
   "version": "3.11.9"
  }
 },
 "nbformat": 4,
 "nbformat_minor": 2
}
