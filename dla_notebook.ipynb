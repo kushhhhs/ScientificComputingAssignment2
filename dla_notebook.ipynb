{
 "cells": [
  {
   "cell_type": "markdown",
   "metadata": {},
   "source": [
    "# Diffusion Limited Aggregation (DLA) Simulation Experiments\n",
    "\n",
    "This notebook demonstrates the use of the DLA simulation module to perform experiments and visualize results."
   ]
  },
  {
   "cell_type": "code",
   "execution_count": 1,
   "metadata": {},
   "outputs": [],
   "source": [
    "import sys\n",
    "sys.path.append(\"src\")  \n",
    "import simulation  \n"
   ]
  },
  {
   "cell_type": "markdown",
   "metadata": {},
   "source": [
    "## DLA Simulation\n",
    "\n",
    " We perform a DLA simulation with 100 particles and varying values of the exponent $\\eta$(0.5, 1.0, and 2.0). For each run, we generate and visualize the corresponding final concentration heat map"
   ]
  },
  {
   "cell_type": "code",
   "execution_count": null,
   "metadata": {},
   "outputs": [],
   "source": [
    "N = 100\n",
    "eta = 0.5\n",
    "frames, conc, _ = simulation.dla_simulation(N, num_particles = 100, eta= eta)\n",
    "simulation.plot_final_dla_with_concentration(frames, conc, eta = eta)"
   ]
  },
  {
   "cell_type": "code",
   "execution_count": null,
   "metadata": {},
   "outputs": [],
   "source": [
    "eta = 1.0\n",
    "frames, conc, _ = simulation.dla_simulation(N, num_particles = 100, eta= eta)\n",
    "simulation.plot_final_dla_with_concentration(frames, conc, eta = eta)"
   ]
  },
  {
   "cell_type": "code",
   "execution_count": null,
   "metadata": {},
   "outputs": [],
   "source": [
    "eta = 2.0\n",
    "frames, conc, _ = simulation.dla_simulation(N, num_particles = 100, eta= eta)\n",
    "simulation.plot_final_dla_with_concentration(frames, conc, eta = eta)"
   ]
  },
  {
   "cell_type": "code",
   "execution_count": null,
   "metadata": {},
   "outputs": [],
   "source": [
    "ani = simulation.animate_dla(frames, N)"
   ]
  },
  {
   "cell_type": "markdown",
   "metadata": {},
   "source": [
    "## Optimization of omega"
   ]
  },
  {
   "cell_type": "code",
   "execution_count": null,
   "metadata": {},
   "outputs": [],
   "source": [
    "optimal_omega = simulation.check_optimal_sor(N=100, num_particles=30, runs=100)\n",
    "print(f\"Optimal omega: {optimal_omega:.2f}\")"
   ]
  }
 ],
 "metadata": {
  "kernelspec": {
   "display_name": "Python 3",
   "language": "python",
   "name": "python3"
  },
  "language_info": {
   "codemirror_mode": {
    "name": "ipython",
    "version": 3
   },
   "file_extension": ".py",
   "mimetype": "text/x-python",
   "name": "python",
   "nbconvert_exporter": "python",
   "pygments_lexer": "ipython3",
   "version": "3.12.4"
  }
 },
 "nbformat": 4,
 "nbformat_minor": 4
}
